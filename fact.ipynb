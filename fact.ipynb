{
 "cells": [
  {
   "cell_type": "code",
   "execution_count": 1,
   "metadata": {},
   "outputs": [
    {
     "name": "stdout",
     "output_type": "stream",
     "text": [
      "6\n"
     ]
    }
   ],
   "source": [
    "# File Name: fact.ipynb\n",
    "# Author: Kyle Larson\n",
    "# Purpose: practice with recurrance equations\n",
    "def fact(n):\n",
    "    if (n==0):\n",
    "        return 1;\n",
    "    else: \n",
    "        return n*fact(n-1);\n",
    "    \n",
    "print(fact(3))"
   ]
  },
  {
   "cell_type": "code",
   "execution_count": null,
   "metadata": {},
   "outputs": [],
   "source": [
    "# tn = tn-1 + 1\n",
    "#multiplications in recursive call + 1\n",
    "# t0 = 0 \n",
    "#tn = n is the explicit solution\n"
   ]
  }
 ],
 "metadata": {
  "kernelspec": {
   "display_name": "Python 3",
   "language": "python",
   "name": "python3"
  },
  "language_info": {
   "codemirror_mode": {
    "name": "ipython",
    "version": 3
   },
   "file_extension": ".py",
   "mimetype": "text/x-python",
   "name": "python",
   "nbconvert_exporter": "python",
   "pygments_lexer": "ipython3",
   "version": "3.7.6"
  }
 },
 "nbformat": 4,
 "nbformat_minor": 4
}
